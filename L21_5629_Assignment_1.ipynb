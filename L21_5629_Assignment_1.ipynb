{
  "cells": [
    {
      "cell_type": "markdown",
      "metadata": {
        "id": "TWWLTwYZorzC"
      },
      "source": [
        "# Introduction To Data Science – Assignment 1\n",
        "\n",
        "---\n",
        "\n",
        "### Sections A – B – C – D\n",
        "\n",
        "---\n",
        "\n",
        "***Instructions***\n",
        "\n",
        "Due Date: Sunday 18th September 2022 – 11:59PM\n",
        "\n",
        "Name the file in the format Lyyxxxx and save it as .ipynb (e.g. L201234.ipynb)\n",
        "\n",
        "Submission will be taken on **GitHub and Google Classroom (submit the .ipynb file)** - Instructions to upload onto GitHub are provided in the link https://docs.google.com/document/d/1BR1ULOGeGWJVU6Rr6Qty1FR-quVRZyRvQGII6nEs-wo/edit?usp=sharing\n",
        "\n",
        "After uploading and submitting the .ipynb file onto Google Classroom, also private comment the link to the GitHub repository.\n",
        "\n",
        "All source files needed to complete this assignment can be found on the following Google Drive link https://drive.google.com/drive/folders/1VrkaVcExGWqilSeh50WZe4gUBjmUiJ9b?usp=sharing\n",
        "\n",
        "TA Emails\n",
        "\n",
        "Section A, C - Muhammad Maarij l192347@lhr.nu.edu.pk\n",
        "\n",
        "Section B, D - Hira Ijaz l192377@lhr.nu.edu.pk\n",
        "\n",
        "Happy Coding 😊\n",
        "\n",
        "---"
      ]
    },
    {
      "cell_type": "markdown",
      "metadata": {
        "id": "arB_0r9H0jjC"
      },
      "source": [
        "---\n",
        "## Question 1\n",
        "---"
      ]
    },
    {
      "cell_type": "markdown",
      "metadata": {
        "id": "qHPTNDy30n99"
      },
      "source": [
        "Define a procedure called \"check_input\" that takes an input as a square list of lists (2D Matrix of N x N) and returns a boolen \"true\" if the input is valid or \"false\" otherwise, according to the following criteria.\n",
        "\n",
        "1. Each coloumn must contain numbers from between 1 and N, with no duplicates.\n",
        "2. Each row must contain numbers from between 1 and N, with no duplicates."
      ]
    },
    {
      "cell_type": "code",
      "execution_count": 16,
      "metadata": {
        "id": "S2_Zic322Lt7"
      },
      "outputs": [],
      "source": [
        "def check_input(array):\n",
        "    rcount = 0\n",
        "    ccount = 0\n",
        "    x = len(array[0])\n",
        "    for i in range(0,x):\n",
        "        for j in range(1,x):\n",
        "            if(array[i][0]==array[i][j] or type(array[i][j])==str):\n",
        "                rcount = rcount + 1\n",
        "    \n",
        "    for j in range(0,3):\n",
        "        for i in range(1,3):\n",
        "            if(array[0][j]==array[i][j] or type(array[i][j])==str):\n",
        "                ccount = ccount + 1\n",
        "    if(rcount==0 and ccount==0):\n",
        "        return True\n",
        "    else:\n",
        "        return False\n",
        "                \n",
        "\n"
      ]
    },
    {
      "cell_type": "code",
      "execution_count": 17,
      "metadata": {
        "colab": {
          "base_uri": "https://localhost:8080/"
        },
        "id": "wdL9MWgq2ZbP",
        "outputId": "7b3adf17-acb6-4b11-c18e-a2bf1230b6a0"
      },
      "outputs": [
        {
          "name": "stdout",
          "output_type": "stream",
          "text": [
            "True\n",
            "False\n",
            "False\n"
          ]
        }
      ],
      "source": [
        "# run this block to test code after defining the procedure\n",
        "\n",
        "test1 = [[1, 2, 3],\n",
        "        [2, 3, 1],\n",
        "        [3, 1, 2]]\n",
        "\n",
        "test2 = [[1, 2, 3, 4],\n",
        "        [2, 3, 1, 3],\n",
        "        [3, 1, 2, 3],\n",
        "        [4, 4, 4, 4]]\n",
        "\n",
        "test3 = [['a', 'b', 'c'],\n",
        "        ['b', 'c', 'a'],\n",
        "        ['c', 'a', 'b']]\n",
        "\n",
        "print(check_input(test1)) # must return true\n",
        "print(check_input(test2)) # must return false\n",
        "print(check_input(test3)) # must return false"
      ]
    },
    {
      "cell_type": "markdown",
      "metadata": {
        "id": "4RVTlnhWqOUC"
      },
      "source": [
        "---\n",
        "## Question 2\n",
        "---"
      ]
    },
    {
      "cell_type": "markdown",
      "metadata": {
        "id": "Uyc7JPtNt0pR"
      },
      "source": [
        "**Part A** - Import the file \"StudentMarkSheet.csv\" as a Pandas DataFrame and print the information for the dataframe"
      ]
    },
    {
      "cell_type": "code",
      "execution_count": null,
      "metadata": {
        "colab": {
          "base_uri": "https://localhost:8080/"
        },
        "id": "wYrt7e6Xop2P",
        "outputId": "835dc5e1-3f40-4aa4-9700-8047c54ef52f"
      },
      "outputs": [
        {
          "name": "stdout",
          "output_type": "stream",
          "text": [
            "        Student name  Exam name   Exam date  Marks\n",
            "0       James Walker    Biology  05/06/2016   31.0\n",
            "1      Velma Clemons    Biology  05/06/2016   43.0\n",
            "2     Kibo Underwood    Biology  05/06/2016   81.0\n",
            "3        Louis Mcgee    Biology  05/06/2016   11.0\n",
            "4       Phyllis Paul    Biology  05/06/2016   18.0\n",
            "..               ...        ...         ...    ...\n",
            "195       Yen Bowers  Sociology  21/06/2016   52.0\n",
            "196        Ryan Pena  Sociology  21/06/2016   16.0\n",
            "197  Portia Hamilton  Sociology  21/06/2016   34.0\n",
            "198  Sydnee Chambers  Sociology  21/06/2016   76.0\n",
            "199      Stacy Small  Sociology  21/06/2016   96.0\n",
            "\n",
            "[200 rows x 4 columns]\n",
            "<class 'pandas.core.frame.DataFrame'>\n",
            "RangeIndex: 200 entries, 0 to 199\n",
            "Data columns (total 4 columns):\n",
            " #   Column        Non-Null Count  Dtype  \n",
            "---  ------        --------------  -----  \n",
            " 0   Student name  200 non-null    object \n",
            " 1   Exam name     199 non-null    object \n",
            " 2   Exam date     200 non-null    object \n",
            " 3   Marks         197 non-null    float64\n",
            "dtypes: float64(1), object(3)\n",
            "memory usage: 6.4+ KB\n"
          ]
        }
      ],
      "source": [
        "import pandas as pd\n",
        "df=pd.read_csv(\"StudentMarkSheet.csv\")\n",
        "print(df)\n",
        "df.info()"
      ]
    },
    {
      "cell_type": "markdown",
      "metadata": {
        "id": "jIaMvgcft_i0"
      },
      "source": [
        "**Part B** - Remove any rows that do not contain all the data. Also print the following information.\n",
        "\n",
        "1. Number of rows before\n",
        "2. Number of rows containing null data\n",
        "3. Number of rows after"
      ]
    },
    {
      "cell_type": "code",
      "execution_count": null,
      "metadata": {
        "colab": {
          "base_uri": "https://localhost:8080/"
        },
        "id": "_ov_SWdxuZUm",
        "outputId": "ef9ae1b0-e4a6-4b46-dbce-41ba8ede8109"
      },
      "outputs": [
        {
          "name": "stdout",
          "output_type": "stream",
          "text": [
            "NUMBER OF ROWS IN DATA-FRAME ->  196\n",
            " AFTER DROPPING THE ROWS CONTAINING NULL DATA ->  196\n",
            " AFTER DROPPING THE ROWS CONTAINING NULL DATA ->  196\n",
            " THE NUMBER OF ROWS THAT CONTAIN ANY NULL DATA ->  0\n"
          ]
        }
      ],
      "source": [
        "print(\"NUMBER OF ROWS IN DATA-FRAME -> \",len(df))\n",
        "df = df.dropna(how='all')\n",
        "y = len(df)\n",
        "print(\" AFTER DROPPING THE ROWS CONTAINING NULL DATA -> \",len(df))\n",
        "df = df.dropna(how='any')\n",
        "z = len(df)\n",
        "print(\" AFTER DROPPING THE ROWS CONTAINING NULL DATA -> \",len(df))\n",
        "print(\" THE NUMBER OF ROWS THAT CONTAIN ANY NULL DATA -> \",y-z)\n",
        "\n"
      ]
    },
    {
      "cell_type": "markdown",
      "metadata": {
        "id": "2kd9zAX6wkXM"
      },
      "source": [
        "**Part C** - Print all the marks along with the subject for the student named \"James Walker\""
      ]
    },
    {
      "cell_type": "code",
      "execution_count": null,
      "metadata": {
        "colab": {
          "base_uri": "https://localhost:8080/"
        },
        "id": "N0HWJN-PwuSo",
        "outputId": "2d10d25a-c5dc-41bc-ce94-8787cff57723"
      },
      "outputs": [
        {
          "name": "stdout",
          "output_type": "stream",
          "text": [
            "     Student name    Exam name   Exam date  Marks\n",
            "0    James Walker      Biology  05/06/2016   31.0\n",
            "42   James Walker    Chemistry  15/06/2016   61.0\n",
            "71   James Walker  Mathematics  29/07/2016   23.0\n",
            "150  James Walker      Physics  10/06/2016  100.0\n",
            "180  James Walker    Sociology  21/06/2016   73.0\n"
          ]
        }
      ],
      "source": [
        "print(df[df['Student name']=='James Walker'])"
      ]
    },
    {
      "cell_type": "markdown",
      "metadata": {
        "id": "ts8Y1EXmwzhf"
      },
      "source": [
        "---\n",
        "## Question 3\n",
        "---"
      ]
    },
    {
      "cell_type": "markdown",
      "metadata": {
        "id": "PJENm_hpw3GQ"
      },
      "source": [
        "**Part A** - From the DataFrame created in Question 2, calculate the average marks for each subject"
      ]
    },
    {
      "cell_type": "code",
      "execution_count": null,
      "metadata": {
        "colab": {
          "base_uri": "https://localhost:8080/"
        },
        "id": "AxhCtST5xS3L",
        "outputId": "181b3d86-0314-4717-84f6-d9b839c45002"
      },
      "outputs": [
        {
          "name": "stdout",
          "output_type": "stream",
          "text": [
            "         Student name Exam name   Exam date  Marks\n",
            "0        James Walker   Biology  05/06/2016   31.0\n",
            "1       Velma Clemons   Biology  05/06/2016   43.0\n",
            "2      Kibo Underwood   Biology  05/06/2016   81.0\n",
            "3         Louis Mcgee   Biology  05/06/2016   11.0\n",
            "4        Phyllis Paul   Biology  05/06/2016   18.0\n",
            "5      Zenaida Decker   Biology  05/06/2016   55.0\n",
            "6     Gillian Tillman   Biology  05/06/2016   38.0\n",
            "7     Constance Boone   Biology  05/06/2016   16.0\n",
            "8   Giselle Lancaster   Biology  05/06/2016   73.0\n",
            "9    Kirsten Mcdowell   Biology  05/06/2016   16.0\n",
            "10        Solomon Ray   Biology  05/06/2016   23.0\n",
            "11      John Marshall   Biology  05/06/2016   55.0\n",
            "12     Merrill Carney   Biology  05/06/2016   71.0\n",
            "13   Hakeem Gillespie   Biology  05/06/2016   12.0\n",
            "14       Hayden Boyer   Biology  05/06/2016   77.0\n",
            "15     Griffin Mcleod   Biology  05/06/2016   19.0\n",
            "16   Allistair Patton   Biology  05/06/2016   57.0\n",
            "17        Rina Slater   Biology  05/06/2016   78.0\n",
            "18   Caldwell Skinner   Biology  05/06/2016   92.0\n",
            "19    Portia Galloway   Biology  05/06/2016   23.0\n",
            "20   Noelle Valentine   Biology  05/06/2016   62.0\n",
            "21          Abel Clay   Biology  05/06/2016    1.0\n",
            "22     Stephanie Kent   Biology  05/06/2016  100.0\n",
            "23         Axel Petty   Biology  05/06/2016   49.0\n",
            "24     Nevada Morales   Biology  05/06/2016   41.0\n",
            "25        Fuller Bush   Biology  05/06/2016   47.0\n",
            "26         Quinn Mayo   Biology  05/06/2016   24.0\n",
            "27     Marcia Shepard   Biology  05/06/2016   33.0\n",
            "28       Kieran Moody   Biology  05/06/2016   45.0\n",
            "29   Brielle Thompson   Biology  05/06/2016   41.0\n",
            "30         Hashim Gay   Biology  05/06/2016   78.0\n",
            "31    Deborah Roberts   Biology  05/06/2016   25.0\n",
            "32    Nomlanga Clarke   Biology  05/06/2016   44.0\n",
            "33       Elaine Downs   Biology  05/06/2016   86.0\n",
            "34   Christen Ballard   Biology  05/06/2016   97.0\n",
            "35       Dacey Baxter   Biology  05/06/2016   35.0\n",
            "36      Nasim Sampson   Biology  05/06/2016   75.0\n",
            "37      Yoshi Sherman   Biology  05/06/2016   48.0\n",
            " THE AVERAGE OF BIOLOGY MARKS IS ->  47.89473684210526\n",
            "        Student name  Exam name   Exam date  Marks\n",
            "38       Veda Malone  Chemistry  15/06/2016   52.0\n",
            "39   Scarlett Fisher  Chemistry  15/06/2016   20.0\n",
            "40  Meredith Parsons  Chemistry  15/06/2016   32.0\n",
            "41    Jerome Buckley  Chemistry  15/06/2016   19.0\n",
            "42      James Walker  Chemistry  15/06/2016   61.0\n",
            "43  Gisela Robertson  Chemistry  15/06/2016   34.0\n",
            "44       Sylvia Kent  Chemistry  15/06/2016    9.0\n",
            "45     Mercedes King  Chemistry  15/06/2016   22.0\n",
            "46      Logan Madden  Chemistry  15/06/2016   46.0\n",
            "48      Cora Frazier  Chemistry  15/06/2016   92.0\n",
            "49    Yolanda Carter  Chemistry  15/06/2016    1.0\n",
            "50     Hadassah Lowe  Chemistry  15/06/2016   84.0\n",
            "51       Ingrid Yang  Chemistry  15/06/2016   63.0\n",
            "52     Trevor Spence  Chemistry  15/06/2016   59.0\n",
            "53         Iola West  Chemistry  15/06/2016   61.0\n",
            "54      Kitra Sparks  Chemistry  15/06/2016   47.0\n",
            "55        Carly Bray  Chemistry  15/06/2016   27.0\n",
            "56     Leilani Beard  Chemistry  15/06/2016   99.0\n",
            "57     Cameron Bowen  Chemistry  15/06/2016   84.0\n",
            "58      Hilda Oneill  Chemistry  15/06/2016   95.0\n",
            "59         Ori Short  Chemistry  15/06/2016   50.0\n",
            "60   Xandra Cardenas  Chemistry  15/06/2016   27.0\n",
            "61       Audrey Todd  Chemistry  15/06/2016   39.0\n",
            "62   Ferdinand Lloyd  Chemistry  15/06/2016   71.0\n",
            "63   Kareem Mcdowell  Chemistry  15/06/2016   83.0\n",
            "64       Aaron Giles  Chemistry  15/06/2016   38.0\n",
            " THE AVERAGE OF CHEMISTRY MARKS IS ->  50.57692307692308\n",
            "         Student name Exam name   Exam date  Marks\n",
            "140  Ashton Nicholson   Physics  10/06/2016   69.0\n",
            "141   Solomon Rollins   Physics  10/06/2016   95.0\n",
            "142   Wesley Jacobson   Physics  10/06/2016   33.0\n",
            "143       Laura Gomez   Physics  10/06/2016   76.0\n",
            "144      Cora Fuentes   Physics  10/06/2016   20.0\n",
            "145   Deirdre Flowers   Physics  10/06/2016   10.0\n",
            "146      Yen Rutledge   Physics  10/06/2016   67.0\n",
            "147  Vladimir Delgado   Physics  10/06/2016   80.0\n",
            "148     Hedley Brewer   Physics  10/06/2016   22.0\n",
            "149    Lillian Massey   Physics  10/06/2016    8.0\n",
            "150      James Walker   Physics  10/06/2016  100.0\n",
            "151       Raja Conley   Physics  10/06/2016   49.0\n",
            "152     Xavier Coffey   Physics  10/06/2016   70.0\n",
            "153        Ian Sawyer   Physics  10/06/2016   86.0\n",
            "154    Branden Hansen   Physics  10/06/2016   15.0\n",
            "155    Yoshio Schultz   Physics  10/06/2016   95.0\n",
            "156     Jamal Mercado   Physics  10/06/2016   67.0\n",
            "157    Ishmael Zamora   Physics  10/06/2016   20.0\n",
            "158    Kristen Potter   Physics  10/06/2016   31.0\n",
            "159   Unity Rodriquez   Physics  10/06/2016   48.0\n",
            "160         Mia Barry   Physics  10/06/2016   26.0\n",
            " THE AVERAGE OF PHYSICS MARKS IS ->  51.76190476190476\n",
            "          Student name  Exam name   Exam date  Marks\n",
            "161      Vincent Byers  Sociology  21/06/2016   70.0\n",
            "162      Rogan Edwards  Sociology  21/06/2016   37.0\n",
            "163     Darrel Wallace  Sociology  21/06/2016   68.0\n",
            "164       Colin Adkins  Sociology  21/06/2016   60.0\n",
            "165          Hop Cantu  Sociology  21/06/2016   98.0\n",
            "166        Nita Valdez  Sociology  21/06/2016   20.0\n",
            "167      Georgia Gomez  Sociology  21/06/2016   32.0\n",
            "168     Shannon Fields  Sociology  21/06/2016   40.0\n",
            "169     Jennifer Keith  Sociology  21/06/2016   97.0\n",
            "170          Keane Cox  Sociology  21/06/2016    1.0\n",
            "171        Sage Foster  Sociology  21/06/2016    6.0\n",
            "172        Ezra Hoover  Sociology  21/06/2016   39.0\n",
            "173       Burton Burke  Sociology  21/06/2016   68.0\n",
            "174    Preston Barrera  Sociology  21/06/2016   37.0\n",
            "175     Octavia Monroe  Sociology  21/06/2016   37.0\n",
            "176     Kirestin Sweet  Sociology  21/06/2016   90.0\n",
            "177  Octavius Chambers  Sociology  21/06/2016   38.0\n",
            "178       Grady Decker  Sociology  21/06/2016   87.0\n",
            "179   Jenette Humphrey  Sociology  21/06/2016   45.0\n",
            "180       James Walker  Sociology  21/06/2016   73.0\n",
            "181  Mohammad Cantrell  Sociology  21/06/2016   36.0\n",
            "182      Alma Richmond  Sociology  21/06/2016   35.0\n",
            "183       Galena Mayer  Sociology  21/06/2016   85.0\n",
            "184        Reese Black  Sociology  21/06/2016    7.0\n",
            "185       Phillip Ward  Sociology  21/06/2016   67.0\n",
            "186  Priscilla Higgins  Sociology  21/06/2016   80.0\n",
            "187      Yael Trujillo  Sociology  21/06/2016   55.0\n",
            "189       Todd Dillard  Sociology  21/06/2016   67.0\n",
            "190       Noelle Marsh  Sociology  21/06/2016   27.0\n",
            "191         Akeem Chan  Sociology  21/06/2016   94.0\n",
            "192      Victoria Long  Sociology  21/06/2016   96.0\n",
            "193   Brooke Zimmerman  Sociology  21/06/2016   99.0\n",
            "194      Cadman Greene  Sociology  21/06/2016   64.0\n",
            "195         Yen Bowers  Sociology  21/06/2016   52.0\n",
            "196          Ryan Pena  Sociology  21/06/2016   16.0\n",
            "197    Portia Hamilton  Sociology  21/06/2016   34.0\n",
            "198    Sydnee Chambers  Sociology  21/06/2016   76.0\n",
            "199        Stacy Small  Sociology  21/06/2016   96.0\n",
            " THE AVERAGE OF SOCIOLOGY MARKS IS ->  56.026315789473685\n",
            "           Student name    Exam name   Exam date  Marks\n",
            "65      Keefe Schneider  Mathematics  29/07/2016   48.0\n",
            "66       Kasper Ballard  Mathematics  29/07/2016    5.0\n",
            "67         Maris Turner  Mathematics  29/07/2016    7.0\n",
            "68        Ava Robertson  Mathematics  29/07/2016   70.0\n",
            "69       Gillian Benton  Mathematics  29/07/2016   73.0\n",
            "70          Dora Landry  Mathematics  29/07/2016   59.0\n",
            "71         James Walker  Mathematics  29/07/2016   23.0\n",
            "72          Iola Sutton  Mathematics  29/07/2016   72.0\n",
            "73            Jana Reed  Mathematics  29/07/2016   31.0\n",
            "74         Alfonso Love  Mathematics  29/07/2016   74.0\n",
            "75        Ciaran Mosley  Mathematics  29/07/2016   91.0\n",
            "76         Justin Evans  Mathematics  29/07/2016   53.0\n",
            "77          Ryder Combs  Mathematics  29/07/2016   56.0\n",
            "79        Jakeem Rivera  Mathematics  29/07/2016  100.0\n",
            "80           Hyatt Long  Mathematics  29/07/2016   50.0\n",
            "81      Tanisha Stanton  Mathematics  29/07/2016   60.0\n",
            "82         Alec Pittman  Mathematics  29/07/2016   38.0\n",
            "83       Octavia Ashley  Mathematics  29/07/2016   33.0\n",
            "84       Curran Merrill  Mathematics  29/07/2016   75.0\n",
            "85          Laith Gibbs  Mathematics  29/07/2016   74.0\n",
            "86       Walter Skinner  Mathematics  29/07/2016    7.0\n",
            "87           Burke Horn  Mathematics  29/07/2016    6.0\n",
            "88     Alexander Walton  Mathematics  29/07/2016   40.0\n",
            "89      Cally Wilkinson  Mathematics  29/07/2016   14.0\n",
            "90        Gary Mcintosh  Mathematics  29/07/2016   16.0\n",
            "91          Jacob Greer  Mathematics  29/07/2016   31.0\n",
            "92   Fitzgerald Mueller  Mathematics  29/07/2016   72.0\n",
            "93       Claire Roberts  Mathematics  29/07/2016   48.0\n",
            "94        Kuame Harrell  Mathematics  29/07/2016   53.0\n",
            "95         Kaseem Hurst  Mathematics  29/07/2016   67.0\n",
            "96           Irene Witt  Mathematics  29/07/2016   23.0\n",
            "97        Courtney Nash  Mathematics  29/07/2016   90.0\n",
            "98          Lane Torres  Mathematics  29/07/2016   87.0\n",
            "99         Jonas Vinson  Mathematics  29/07/2016   40.0\n",
            "100       Burton Holden  Mathematics  29/07/2016   26.0\n",
            "101         Connor Shaw  Mathematics  29/07/2016   51.0\n",
            " THE AVERAGE OF MATHEMATICS MARKS IS ->  48.97222222222222\n",
            "           Student name   Exam name   Exam date  Marks\n",
            "102       Calvin Riddle  Philosophy  02/06/2016   35.0\n",
            "103         Tara Mendez  Philosophy  02/06/2016   66.0\n",
            "105         Pandora Orr  Philosophy  02/06/2016   91.0\n",
            "106     Stuart Crawford  Philosophy  02/06/2016   63.0\n",
            "107       Winter Mendez  Philosophy  02/06/2016   16.0\n",
            "108         Elijah Goff  Philosophy  02/06/2016   10.0\n",
            "109    Chiquita Gilmore  Philosophy  02/06/2016   23.0\n",
            "110     Eleanor Gregory  Philosophy  02/06/2016   72.0\n",
            "111        Justine Soto  Philosophy  02/06/2016   93.0\n",
            "112     Stuart Mcdaniel  Philosophy  02/06/2016   10.0\n",
            "113    Shaeleigh Dunlap  Philosophy  02/06/2016   99.0\n",
            "114       Lesley Bolton  Philosophy  02/06/2016   67.0\n",
            "115       Shellie Davis  Philosophy  02/06/2016   81.0\n",
            "116        Tarik Jarvis  Philosophy  02/06/2016   40.0\n",
            "117          Adria Ball  Philosophy  02/06/2016   23.0\n",
            "118       Daryl Tillman  Philosophy  02/06/2016   65.0\n",
            "119          Magee Tate  Philosophy  02/06/2016   24.0\n",
            "120      Jordan Beasley  Philosophy  02/06/2016   62.0\n",
            "121       Dalton Becker  Philosophy  02/06/2016   41.0\n",
            "122       Derek Burnett  Philosophy  02/06/2016   42.0\n",
            "123        Halla Little  Philosophy  02/06/2016    8.0\n",
            "124           Lani Pate  Philosophy  02/06/2016   91.0\n",
            "125         Moses Chang  Philosophy  02/06/2016   69.0\n",
            "126        Travis Weeks  Philosophy  02/06/2016   47.0\n",
            "127      Nichole Ortega  Philosophy  02/06/2016    0.0\n",
            "128        Hasad Berger  Philosophy  02/06/2016   42.0\n",
            "129         Galvin Hall  Philosophy  02/06/2016   65.0\n",
            "130      Kieran English  Philosophy  02/06/2016   42.0\n",
            "131           Ella Dunn  Philosophy  02/06/2016   32.0\n",
            "132      Jermaine Roman  Philosophy  02/06/2016   33.0\n",
            "133  Chadwick Armstrong  Philosophy  02/06/2016    4.0\n",
            "134        Rhonda Ellis  Philosophy  02/06/2016   27.0\n",
            "135         Ezra Brooks  Philosophy  02/06/2016   56.0\n",
            "136   Jessamine Trevino  Philosophy  02/06/2016   36.0\n",
            "137      Chaim Garrison  Philosophy  02/06/2016   51.0\n",
            "138          Bo Leonard  Philosophy  02/06/2016   71.0\n",
            "139       May Christian  Philosophy  02/06/2016   52.0\n",
            " THE AVERAGE OF PHYLOSOPHY MARKS IS ->  47.270270270270274\n"
          ]
        }
      ],
      "source": [
        "import pandas as pd\n",
        "import matplotlib.pyplot as plt\n",
        "df=pd.read_csv(\"StudentMarkSheet.csv\")\n",
        "df = df.dropna(how='any')\n",
        "\n",
        "avgbio = df[df[\"Exam name\"] == \"Biology\"]\n",
        "print(avgbio)\n",
        "avgbio = avgbio[\"Marks\"]\n",
        "avgbio = ( avgbio.sum())/(len(avgbio))\n",
        "print ( \" THE AVERAGE OF BIOLOGY MARKS IS -> \",avgbio)\n",
        "\n",
        "avgchem = df[df[\"Exam name\"] == \"Chemistry\"]\n",
        "print(avgchem)\n",
        "avgchem = avgchem[\"Marks\"]\n",
        "avgchem = ( avgchem.sum())/(len(avgchem))\n",
        "print ( \" THE AVERAGE OF CHEMISTRY MARKS IS -> \",avgchem)\n",
        "\n",
        "avgphy = df[df[\"Exam name\"] == \"Physics\"]\n",
        "print(avgphy)\n",
        "avgphy = avgphy[\"Marks\"]\n",
        "avgphy = ( avgphy.sum())/(len(avgphy))\n",
        "print ( \" THE AVERAGE OF PHYSICS MARKS IS -> \",avgphy)\n",
        "\n",
        "avgsoc = df[df[\"Exam name\"] == \"Sociology\"]\n",
        "print(avgsoc)\n",
        "avgsoc = avgsoc[\"Marks\"]\n",
        "avgsoc = ( avgsoc.sum())/(len(avgsoc))\n",
        "print ( \" THE AVERAGE OF SOCIOLOGY MARKS IS -> \",avgsoc)\n",
        "\n",
        "avgmath = df[df[\"Exam name\"] == \"Mathematics\"]\n",
        "print(avgmath)\n",
        "avgmath = avgmath[\"Marks\"]\n",
        "avgmath = ( avgmath.sum())/(len(avgmath))\n",
        "print ( \" THE AVERAGE OF MATHEMATICS MARKS IS -> \",avgmath)\n",
        "\n",
        "avgphil = df[df[\"Exam name\"] == \"Philosophy\"]\n",
        "print(avgphil)\n",
        "avgphil = avgphil[\"Marks\"]\n",
        "avgphil = ( avgphil.sum())/(len(avgphil))\n",
        "print ( \" THE AVERAGE OF PHYLOSOPHY MARKS IS -> \",avgphil)\n",
        "\n"
      ]
    },
    {
      "cell_type": "markdown",
      "metadata": {
        "id": "NDlaA7hHxUBc"
      },
      "source": [
        "**Part B** - Using the averages you just calculated, plot a Bar Graph showing the average marks of each subject"
      ]
    },
    {
      "cell_type": "code",
      "execution_count": null,
      "metadata": {
        "colab": {
          "base_uri": "https://localhost:8080/",
          "height": 265
        },
        "id": "LWoPFZBOyyNn",
        "outputId": "05d874e7-d55b-4257-d558-d72af7b234e2"
      },
      "outputs": [
        {
          "data": {
            "image/png": "[encoded data removed]",
            "text/plain": [
              "<Figure size 432x288 with 1 Axes>"
            ]
          },
          "metadata": {
            "needs_background": "light"
          },
          "output_type": "display_data"
        }
      ],
      "source": [
        "subject = [ \"BIOLOGY\" , \"CHEMISTRY\" , \"PHYSICS\" , \"SOCIOLOGY\" , \"MATHS\" , \"PHILOSOPHY\" ]\n",
        "average = [ avgbio , avgchem , avgphy , avgsoc , avgmath , avgphil ]\n",
        "plt.bar ( subject , average , fc = \"blue\" )\n",
        "plt.show()"
      ]
    },
    {
      "cell_type": "markdown",
      "metadata": {
        "id": "dWlOSOIs6d1R"
      },
      "source": [
        "---\n",
        "## Question 4\n",
        "---"
      ]
    },
    {
      "cell_type": "markdown",
      "metadata": {
        "id": "b4s-pN4v6kgb"
      },
      "source": [
        "**Part A** - Import the file \"CatData.csv\" and preprocess it to remove any null values"
      ]
    },
    {
      "cell_type": "code",
      "execution_count": 8,
      "metadata": {
        "colab": {
          "base_uri": "https://localhost:8080/"
        },
        "id": "mvZ3xrBV9b1s",
        "outputId": "c40a1e60-3c47-4898-b0c8-1e30cc518d58"
      },
      "outputs": [
        {
          "name": "stdout",
          "output_type": "stream",
          "text": [
            "     Tail Length (cm)  Mass (kg)\n",
            "0                18.1      3.750\n",
            "1                18.6      3.800\n",
            "2                19.5      3.250\n",
            "3                19.3      3.450\n",
            "4                19.0      3.650\n",
            "..                ...        ...\n",
            "337              20.7      4.000\n",
            "338              20.2      3.400\n",
            "339              19.3      3.775\n",
            "340              21.0      4.100\n",
            "341              19.8      3.775\n",
            "\n",
            "[342 rows x 2 columns]\n"
          ]
        }
      ],
      "source": [
        "import pandas as pd\n",
        "df = pd.read_csv(\"CatData.csv\")\n",
        "df.head()\n",
        "n = df[df.isnull().any(axis = 1)]\n",
        "df = df.dropna()\n",
        "print(df)"
      ]
    },
    {
      "cell_type": "markdown",
      "metadata": {
        "id": "bWxuB3ep9SWA"
      },
      "source": [
        "**Part B** - Identify the independant and dependant variables (comment answer below)"
      ]
    },
    {
      "cell_type": "code",
      "execution_count": 9,
      "metadata": {
        "id": "TS9tvuRt9cWr"
      },
      "outputs": [],
      "source": [
        "# dependant variable : Mass\n",
        "\n",
        "# independant variable : Tail Length\n",
        "\n",
        "# Mass increases with the increase in Tail Length"
      ]
    },
    {
      "cell_type": "markdown",
      "metadata": {
        "id": "xPHVA3cX7uk9"
      },
      "source": [
        "**Part C** - Create a linear regression model using sklearn and fit it to the data you just imported\n"
      ]
    },
    {
      "cell_type": "code",
      "execution_count": 10,
      "metadata": {
        "colab": {
          "base_uri": "https://localhost:8080/"
        },
        "id": "WYVNRotH9cyo",
        "outputId": "99135bf4-973e-4f1e-a014-78b487c7c6e3"
      },
      "outputs": [
        {
          "data": {
            "text/plain": [
              "LinearRegression()"
            ]
          },
          "execution_count": 10,
          "metadata": {},
          "output_type": "execute_result"
        }
      ],
      "source": [
        "\n",
        "import numpy as np\n",
        "import matplotlib.pyplot as plt\n",
        "from sklearn import linear_model\n",
        "\n",
        "num = int(len(df)*0.8)\n",
        "train = df[:num]\n",
        "test = df[num:]\n",
        "\n",
        "reg = linear_model.LinearRegression()\n",
        "train_x = np.array(train[[\"Tail Length (cm)\"]])\n",
        "train_y = np.array(train[[\"Mass (kg)\"]])\n",
        "reg.fit(train_x,train_y)"
      ]
    },
    {
      "cell_type": "markdown",
      "metadata": {
        "id": "0QMipKhb830G"
      },
      "source": [
        "**Part D** - Print the values for slope and y-intercept"
      ]
    },
    {
      "cell_type": "code",
      "execution_count": 11,
      "metadata": {
        "colab": {
          "base_uri": "https://localhost:8080/"
        },
        "id": "R7cvi3KB9dJh",
        "outputId": "325deb7f-e584-472c-e8ae-8593442ac888"
      },
      "outputs": [
        {
          "name": "stdout",
          "output_type": "stream",
          "text": [
            "Slope:  [[0.48913766]]\n",
            "Intercept:  [-5.57328662]\n"
          ]
        }
      ],
      "source": [
        "coeff = reg.coef_\n",
        "inter = reg.intercept_\n",
        "print(\"Slope: \", coeff)\n",
        "print(\"Intercept: \",inter)\n"
      ]
    },
    {
      "cell_type": "markdown",
      "metadata": {
        "id": "IIq-BQYp_i33"
      },
      "source": [
        "**Part E** - Plot a scatter graph of the original data and a regression line on the same figure (example with dummy data shown below)\n",
        "\n",
        "![](https://drive.google.com/uc?export=view&id=1o_NAsNjfx7zAh9m-UjvWB3rta6uraKdY)"
      ]
    },
    {
      "cell_type": "code",
      "execution_count": 15,
      "metadata": {
        "colab": {
          "base_uri": "https://localhost:8080/",
          "height": 295
        },
        "id": "jhz8gTYt_lCn",
        "outputId": "4a99d4b8-8c0a-4d9f-e372-384c0b778fda"
      },
      "outputs": [
        {
          "data": {
            "image/png": "[encoded data removed]",
            "text/plain": [
              "<Figure size 432x288 with 1 Axes>"
            ]
          },
          "metadata": {
            "needs_background": "light"
          },
          "output_type": "display_data"
        }
      ],
      "source": [
        "plt.xlabel(\"Tail Length (cm)\")\n",
        "plt.ylabel(\"Mass (kg)\")\n",
        "plt.title(\"Tail Length vs Mass\")\n",
        "plt.scatter(train[\"Tail Length (cm)\"],train[\"Mass (kg)\"])\n",
        "plt.plot(train_x,train_x*coeff[0]+inter, color = 'Red')\n",
        "plt.show()"
      ]
    },
    {
      "cell_type": "code",
      "execution_count": null,
      "metadata": {
        "id": "DpX2HERr1dY1"
      },
      "outputs": [],
      "source": [
        "from google.colab import drive\n",
        "drive.mount('/content/drive')"
      ]
    }
  ],
  "metadata": {
    "colab": {
      "collapsed_sections": [],
      "provenance": []
    },
    "kernelspec": {
      "display_name": "Python 3",
      "name": "python3"
    },
    "language_info": {
      "name": "python"
    }
  },
  "nbformat": 4,
  "nbformat_minor": 0
}
